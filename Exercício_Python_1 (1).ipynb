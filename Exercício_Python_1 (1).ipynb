{
  "nbformat": 4,
  "nbformat_minor": 0,
  "metadata": {
    "colab": {
      "provenance": []
    },
    "kernelspec": {
      "name": "python3",
      "display_name": "Python 3"
    },
    "language_info": {
      "name": "python"
    }
  },
  "cells": [
    {
      "cell_type": "markdown",
      "source": [
        "**Exercício 1 - Aquecimento de Python para Ciência de Dados**"
      ],
      "metadata": {
        "id": "f6oYv9LEcR8T"
      }
    },
    {
      "cell_type": "markdown",
      "source": [
        "1. Imprima \"Hello, World!\" no console."
      ],
      "metadata": {
        "id": "v4GVV_w1cYEY"
      }
    },
    {
      "cell_type": "code",
      "execution_count": null,
      "metadata": {
        "id": "dJ12k9hPcNAg"
      },
      "outputs": [],
      "source": [
        "print(\"Hello, World!\")"
      ]
    },
    {
      "cell_type": "markdown",
      "source": [
        "2. Crie uma variável x com valor 10 e imprima seu valor."
      ],
      "metadata": {
        "id": "ADK7MX25ciYu"
      }
    },
    {
      "cell_type": "code",
      "source": [
        "x = 10\n",
        "print(x)\n"
      ],
      "metadata": {
        "id": "kk5h1v7ocqel",
        "colab": {
          "base_uri": "https://localhost:8080/"
        },
        "outputId": "970135b6-74f3-460f-d177-293ecb42dfdb"
      },
      "execution_count": 1,
      "outputs": [
        {
          "output_type": "stream",
          "name": "stdout",
          "text": [
            "10\n"
          ]
        }
      ]
    },
    {
      "cell_type": "markdown",
      "source": [
        "3. Some dois números e exiba o resultado."
      ],
      "metadata": {
        "id": "bKry1Lukcq6l"
      }
    },
    {
      "cell_type": "code",
      "source": [
        "\n",
        "numero1 = 20\n",
        "numero2 = 55\n",
        "\n",
        "soma = numero1 + numero2\n",
        "\n",
        "print(\"A soma é:\", soma)\n"
      ],
      "metadata": {
        "id": "S6IyQT4Lc2vf",
        "colab": {
          "base_uri": "https://localhost:8080/"
        },
        "outputId": "40397105-9990-4f25-e604-d64ed3e79e4e"
      },
      "execution_count": 3,
      "outputs": [
        {
          "output_type": "stream",
          "name": "stdout",
          "text": [
            "A soma é: 75\n"
          ]
        }
      ]
    },
    {
      "cell_type": "markdown",
      "source": [
        "4. Verifique se um número é par ou ímpar.\n"
      ],
      "metadata": {
        "id": "6BG1PN9Qc3VA"
      }
    },
    {
      "cell_type": "code",
      "source": [
        "numero = 10\n",
        "\n",
        "if numero % 2 == 0:\n",
        "    print(f\"{numero} é par.\")\n",
        "else:\n",
        "    print(f\"{numero} é ímpar.\")\n"
      ],
      "metadata": {
        "id": "K6NLPZoRc7ov",
        "colab": {
          "base_uri": "https://localhost:8080/"
        },
        "outputId": "1166c2e9-4240-4962-e4a5-bff1376cff7e"
      },
      "execution_count": 4,
      "outputs": [
        {
          "output_type": "stream",
          "name": "stdout",
          "text": [
            "10 é par.\n"
          ]
        }
      ]
    },
    {
      "cell_type": "markdown",
      "source": [
        "5. Crie uma função que receba dois números e retorne a soma deles."
      ],
      "metadata": {
        "id": "5dKg-xpvc4xs"
      }
    },
    {
      "cell_type": "code",
      "source": [
        "def soma(a, b):\n",
        "    return a + b\n",
        "\n",
        "numero1 = 3\n",
        "numero2 = 6\n",
        "resultado = soma(numero1, numero2)\n",
        "\n",
        "print(f\"A soma de {numero1} e {numero2} é: {resultado}\")"
      ],
      "metadata": {
        "id": "iv1-9Zytc4S3",
        "colab": {
          "base_uri": "https://localhost:8080/"
        },
        "outputId": "5e91704c-6ef6-406e-903b-4001d671ebbd"
      },
      "execution_count": 5,
      "outputs": [
        {
          "output_type": "stream",
          "name": "stdout",
          "text": [
            "A soma de 3 e 6 é: 9\n"
          ]
        }
      ]
    },
    {
      "cell_type": "markdown",
      "source": [
        "6. Crie uma lista com os números de 1 a 5 e imprima-a.\n"
      ],
      "metadata": {
        "id": "zsdBZtyjc_62"
      }
    },
    {
      "cell_type": "code",
      "source": [
        "numeros = [1, 2, 3, 4, 5]\n",
        "\n",
        "print(numeros)"
      ],
      "metadata": {
        "id": "xGgkwH7jdCh-",
        "colab": {
          "base_uri": "https://localhost:8080/"
        },
        "outputId": "40a64025-9980-4368-95a0-e1ea6c8a1597"
      },
      "execution_count": 6,
      "outputs": [
        {
          "output_type": "stream",
          "name": "stdout",
          "text": [
            "[1, 2, 3, 4, 5]\n"
          ]
        }
      ]
    },
    {
      "cell_type": "markdown",
      "source": [
        "7. Adicione o número 6 à lista criada na questão anterior.\n"
      ],
      "metadata": {
        "id": "snUAe4qddFsm"
      }
    },
    {
      "cell_type": "code",
      "source": [
        "numeros = [1, 2, 3, 4, 5]\n",
        "\n",
        "numeros.append(6)\n",
        "\n",
        "print(numeros)\n"
      ],
      "metadata": {
        "id": "QVpSgy7FdGk9",
        "colab": {
          "base_uri": "https://localhost:8080/"
        },
        "outputId": "ab9e542b-335a-482c-b989-46b10d70aa22"
      },
      "execution_count": 7,
      "outputs": [
        {
          "output_type": "stream",
          "name": "stdout",
          "text": [
            "[1, 2, 3, 4, 5, 6]\n"
          ]
        }
      ]
    },
    {
      "cell_type": "markdown",
      "source": [
        "8. Remova o número 3 da lista."
      ],
      "metadata": {
        "id": "4HT4BfD1dI8f"
      }
    },
    {
      "cell_type": "code",
      "source": [
        "\n",
        "numeros = [1, 2, 3, 4, 5, 6]\n",
        "\n",
        "numeros.remove(3)\n",
        "\n",
        "print(numeros)\n",
        "\n"
      ],
      "metadata": {
        "id": "QCCxAurPdKjB",
        "colab": {
          "base_uri": "https://localhost:8080/"
        },
        "outputId": "18cdbca3-88c0-4f06-b317-3da7fb479cbb"
      },
      "execution_count": 12,
      "outputs": [
        {
          "output_type": "stream",
          "name": "stdout",
          "text": [
            "[1, 2, 4, 5, 6]\n"
          ]
        }
      ]
    },
    {
      "cell_type": "markdown",
      "source": [
        "9. Acesse o terceiro elemento da lista."
      ],
      "metadata": {
        "id": "RyI_EEltdMZt"
      }
    },
    {
      "cell_type": "code",
      "source": [
        "\n",
        "numeros = [1, 2, 4, 5, 6]\n",
        "\n",
        "terceiro_elemento = numeros[2]\n",
        "\n",
        "print(\"O terceiro elemento da lista é:\", terceiro_elemento)"
      ],
      "metadata": {
        "id": "HIkSUt_EdOSD",
        "colab": {
          "base_uri": "https://localhost:8080/"
        },
        "outputId": "1b986beb-0457-4044-ba80-8665e68de3d5"
      },
      "execution_count": 9,
      "outputs": [
        {
          "output_type": "stream",
          "name": "stdout",
          "text": [
            "O terceiro elemento da lista é: 4\n"
          ]
        }
      ]
    },
    {
      "cell_type": "markdown",
      "source": [
        "10. Imprima o tamanho da lista."
      ],
      "metadata": {
        "id": "yQjJYNSsdQUI"
      }
    },
    {
      "cell_type": "code",
      "source": [
        "numeros = [1, 2, 4, 5, 6]\n",
        "\n",
        "tamanho = len(numeros)\n",
        "print(\"O tamanho da lista é:\", tamanho)"
      ],
      "metadata": {
        "id": "Nz1jOedbdTR-"
      },
      "execution_count": null,
      "outputs": []
    },
    {
      "cell_type": "markdown",
      "source": [
        "11. Crie um dicionário com informações de um carro (marca, modelo, ano)."
      ],
      "metadata": {
        "id": "2gm3RaRKdyCg"
      }
    },
    {
      "cell_type": "code",
      "source": [
        "carro = {\n",
        "    \"marca\": \"JEEP\",\n",
        "    \"modelo\": \"COMPASS\",\n",
        "    \"ano\": 2020\n",
        "}\n",
        "print(carro)\n",
        "\n"
      ],
      "metadata": {
        "id": "gL_Svemid1kG"
      },
      "execution_count": null,
      "outputs": []
    },
    {
      "cell_type": "markdown",
      "source": [
        "12. Acesse o valor associado à chave \"marca\" no dicionário."
      ],
      "metadata": {
        "id": "ng6tNEYtd0hE"
      }
    },
    {
      "cell_type": "code",
      "source": [
        "carro = {\n",
        "    \"marca\": \"JEEP\",\n",
        "    \"modelo\": \"COMPASS\",\n",
        "    \"ano\": 2020\n",
        "}\n",
        "\n",
        "\n",
        "marca_do_carro = carro[\"marca\"]\n",
        "\n",
        "print(\"A marca do carro é:\", marca_do_carro)\n"
      ],
      "metadata": {
        "id": "VPDbrV6Ad0Pn",
        "colab": {
          "base_uri": "https://localhost:8080/"
        },
        "outputId": "654ed0f7-71d6-4f3f-886e-8d0f675ce316"
      },
      "execution_count": 14,
      "outputs": [
        {
          "output_type": "stream",
          "name": "stdout",
          "text": [
            "A marca do carro é: JEEP\n"
          ]
        }
      ]
    },
    {
      "cell_type": "markdown",
      "source": [
        "13. Adicione uma nova chave \"cor\" com valor \"preto\" ao dicionário."
      ],
      "metadata": {
        "id": "Ov93hI7Td7c9"
      }
    },
    {
      "cell_type": "code",
      "source": [
        "\n",
        "carro = {\n",
        "    \"marca\": \"JEEP\",\n",
        "    \"modelo\": \"COMPASS\",\n",
        "    \"ano\": 2020\n",
        "}\n",
        "\n",
        "\n",
        "carro[\"cor\"] = \"preto\"\n",
        "\n",
        "marca_do_carro = carro[\"marca\"]\n",
        "\n",
        "print(\"A marca do carro é:\", marca_do_carro)\n",
        "\n",
        "{\n",
        "    \"marca\": \"JEEP\",\n",
        "    \"modelo\": \"COMPASS\",\n",
        "    \"ano\": 2020,\n",
        "    \"cor\": \"preto\"\n",
        "}\n"
      ],
      "metadata": {
        "id": "TrQLLfpid69U",
        "colab": {
          "base_uri": "https://localhost:8080/"
        },
        "outputId": "8c8a6288-00b7-42c2-b275-78c3db86ac81"
      },
      "execution_count": 16,
      "outputs": [
        {
          "output_type": "stream",
          "name": "stdout",
          "text": [
            "A marca do carro é: JEEP\n"
          ]
        },
        {
          "output_type": "execute_result",
          "data": {
            "text/plain": [
              "{'marca': 'JEEP', 'modelo': 'COMPASS', 'ano': 2020, 'cor': 'preto'}"
            ]
          },
          "metadata": {},
          "execution_count": 16
        }
      ]
    },
    {
      "cell_type": "markdown",
      "source": [
        "14. Verifique se a chave \"modelo\" existe no dicionário.\n"
      ],
      "metadata": {
        "id": "b_5cOma2d9LP"
      }
    },
    {
      "cell_type": "code",
      "source": [
        "carro = {\n",
        "    \"marca\": \"JEEP\",\n",
        "    \"modelo\": \"COMPASS\",\n",
        "    \"ano\": 2020,\n",
        "    \"cor\": \"preto\"\n",
        "}\n",
        "\n",
        "if \"modelo\" in carro:\n",
        "    print(\"A chave 'modelo' existe no dicionário.\")\n",
        "else:\n",
        "    print(\"A chave 'modelo' não existe no dicionário.\")\n"
      ],
      "metadata": {
        "id": "DUMaXPQYd8bM",
        "colab": {
          "base_uri": "https://localhost:8080/"
        },
        "outputId": "bf3d476a-0636-40df-b356-fa1422c88487"
      },
      "execution_count": 17,
      "outputs": [
        {
          "output_type": "stream",
          "name": "stdout",
          "text": [
            "A chave 'modelo' existe no dicionário.\n"
          ]
        }
      ]
    },
    {
      "cell_type": "markdown",
      "source": [
        "15. Itere sobre as chaves do dicionário e imprima cada uma delas."
      ],
      "metadata": {
        "id": "Zpqnxu2ReBZH"
      }
    },
    {
      "cell_type": "code",
      "source": [
        "\n",
        "carro = {\n",
        "    \"marca\": \"JEEP\",\n",
        "    \"modelo\": \"COMPASS\",\n",
        "    \"ano\": 2020,\n",
        "    \"cor\": \"preto\"\n",
        "}\n",
        "\n",
        "for chave in carro:\n",
        "    print(chave)\n"
      ],
      "metadata": {
        "id": "4juQCK0veA-g",
        "colab": {
          "base_uri": "https://localhost:8080/"
        },
        "outputId": "457fa8ce-7b2c-4b9e-d262-233009cb2445"
      },
      "execution_count": 18,
      "outputs": [
        {
          "output_type": "stream",
          "name": "stdout",
          "text": [
            "marca\n",
            "modelo\n",
            "ano\n",
            "cor\n"
          ]
        }
      ]
    },
    {
      "cell_type": "markdown",
      "source": [
        "15. Itere sobre as chaves do dicionário e imprima cada uma delas."
      ],
      "metadata": {
        "id": "GAoDb4pneG-j"
      }
    },
    {
      "cell_type": "code",
      "source": [
        "\n",
        "carro = {\n",
        "    \"marca\": \"JEEP\",\n",
        "    \"modelo\": \"COMPASS\",\n",
        "    \"ano\": 2020,\n",
        "    \"cor\": \"preto\"\n",
        "}\n",
        "\n",
        "\n",
        "for chave in carro:\n",
        "    print(chave)\n"
      ],
      "metadata": {
        "id": "aqi8-PtUeGx5"
      },
      "execution_count": null,
      "outputs": []
    },
    {
      "cell_type": "markdown",
      "source": [
        "17. Crie uma função que receba uma lista e retorne a soma dos elementos."
      ],
      "metadata": {
        "id": "oxI3BVhteGhH"
      }
    },
    {
      "cell_type": "code",
      "source": [
        "def soma_lista(lista):\n",
        "    return sum(lista)\n",
        "\n",
        "numeros = [1, 2, 3, 4, 5]\n",
        "resultado = soma_lista(numeros)\n",
        "print(\"A soma dos elementos da lista é:\", resultado)\n"
      ],
      "metadata": {
        "id": "Ijnkd3cJeMM_",
        "colab": {
          "base_uri": "https://localhost:8080/"
        },
        "outputId": "cd03b727-5727-463c-f731-6027de9ed03d"
      },
      "execution_count": 19,
      "outputs": [
        {
          "output_type": "stream",
          "name": "stdout",
          "text": [
            "A soma dos elementos da lista é: 15\n"
          ]
        }
      ]
    },
    {
      "cell_type": "markdown",
      "source": [
        "18. Crie uma função que receba um dicionário e retorne todas as suas chaves.\n"
      ],
      "metadata": {
        "id": "Abqc7zdfeNl7"
      }
    },
    {
      "cell_type": "code",
      "source": [
        "def obter_chaves(dicionario):\n",
        "    return list(dicionario.keys())\n",
        "\n",
        "carro = {\n",
        "    \"marca\": \"JEEP\",\n",
        "    \"modelo\": \"COMPASS\",\n",
        "    \"ano\": 2020,\n",
        "    \"cor\": \"preto\"\n",
        "}\n",
        "\n",
        "chaves_do_carro = obter_chaves(carro)\n",
        "print(\"As chaves do dicionário são:\", chaves_do_carro)\n"
      ],
      "metadata": {
        "id": "ZbHQ9bipeQc3"
      },
      "execution_count": null,
      "outputs": []
    },
    {
      "cell_type": "markdown",
      "source": [
        "\n",
        "19. Crie uma função que receba um dicionário e imprima chave e valor em linhas separadas."
      ],
      "metadata": {
        "id": "wF_R9JlDeNip"
      }
    },
    {
      "cell_type": "code",
      "source": [
        "def imprimir_chave_valor(dicionario):\n",
        "    for chave, valor in dicionario.items():\n",
        "        print(f\"Chave: {chave}\")\n",
        "        print(f\"Valor: {valor}\\n\")\n",
        "\n",
        "carro = {\n",
        "    \"marca\": \"JEEP\",\n",
        "    \"modelo\": \"COMPASS\",\n",
        "    \"ano\": 2020,\n",
        "    \"cor\": \"preto\"\n",
        "}\n",
        "\n",
        "\n",
        "imprimir_chave_valor(carro)\n"
      ],
      "metadata": {
        "id": "ONvkXUDWeVX3",
        "colab": {
          "base_uri": "https://localhost:8080/"
        },
        "outputId": "d245ed95-295c-4634-fcff-81f7d92bf77a"
      },
      "execution_count": 20,
      "outputs": [
        {
          "output_type": "stream",
          "name": "stdout",
          "text": [
            "Chave: marca\n",
            "Valor: JEEP\n",
            "\n",
            "Chave: modelo\n",
            "Valor: COMPASS\n",
            "\n",
            "Chave: ano\n",
            "Valor: 2020\n",
            "\n",
            "Chave: cor\n",
            "Valor: preto\n",
            "\n"
          ]
        }
      ]
    },
    {
      "cell_type": "markdown",
      "source": [
        "20. Crie uma classe chamada Pessoa com atributos nome e idade, e um método que imprima esses dados."
      ],
      "metadata": {
        "id": "5ZSYRpJ-eM4s"
      }
    },
    {
      "cell_type": "code",
      "source": [
        "class Pessoa:\n",
        "    def __init__(self, nome, idade):\n",
        "        self.nome = nome\n",
        "        self.idade = idade\n",
        "\n",
        "    def imprimir_dados(self):\n",
        "        print(f\"Nome: {self.nome}\")\n",
        "        print(f\"Idade: {self.idade}\")\n",
        "\n",
        "pessoa1 = Pessoa(\"Maria\", 30)\n",
        "\n",
        "pessoa1.imprimir_dados()"
      ],
      "metadata": {
        "id": "RNqpzQzdeYUG",
        "colab": {
          "base_uri": "https://localhost:8080/"
        },
        "outputId": "983c34fa-0edb-4a7b-959d-d34de205363d"
      },
      "execution_count": 21,
      "outputs": [
        {
          "output_type": "stream",
          "name": "stdout",
          "text": [
            "Nome: Maria\n",
            "Idade: 30\n"
          ]
        }
      ]
    }
  ]
}